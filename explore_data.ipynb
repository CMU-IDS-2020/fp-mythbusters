{
 "cells": [
  {
   "cell_type": "code",
   "execution_count": null,
   "metadata": {},
   "outputs": [],
   "source": [
    "import covidcast as covid\n",
    "import pandas as pd\n",
    "from datetime import date"
   ]
  },
  {
   "cell_type": "markdown",
   "metadata": {},
   "source": [
    "### Global variables: re-fetch data or read from local csv files"
   ]
  },
  {
   "cell_type": "code",
   "execution_count": null,
   "metadata": {},
   "outputs": [],
   "source": [
    "fetch_from_covidcast = False\n",
    "regenerate_state_fips = False\n",
    "regenerate_county_fips = False\n",
    "remerge_covid_and_fips_data = False\n",
    "regenerate_usda_poverty_data = False\n",
    "regenerate_usda_unemployment_median_hhi_data = False\n",
    "regenerate_usda_population_data = False\n",
    "regenerate_usda_education_data = False"
   ]
  },
  {
   "cell_type": "markdown",
   "metadata": {},
   "source": [
    "### Fetch raw covid data and save to csv"
   ]
  },
  {
   "cell_type": "code",
   "execution_count": null,
   "metadata": {},
   "outputs": [],
   "source": [
    "import warnings\n",
    "warnings.filterwarnings('ignore')"
   ]
  },
  {
   "cell_type": "code",
   "execution_count": null,
   "metadata": {},
   "outputs": [],
   "source": [
    "if fetch_from_covidcast:\n",
    "    \n",
    "    # Total confirmed covid cases per 100k population\n",
    "    confirmed_cumulative_cases_prop = covid.signal(data_source=\"usa-facts\", signal=\"confirmed_cumulative_prop\", geo_type=\"county\")\n",
    "    confirmed_cumulative_cases_prop.to_csv(\"data/covidcast/raw/confirmed_cumulative_cases_prop.csv\")\n",
    "    \n",
    "    # Daily new confirmed covid cases per 100k population\n",
    "    confirmed_daily_incidence_cases_prop = covid.signal(data_source=\"usa-facts\", signal=\"confirmed_incidence_prop\", geo_type=\"county\")\n",
    "    confirmed_daily_incidence_cases_prop.to_csv(\"data/covidcast/raw/confirmed_daily_incidence_cases_prop.csv\")\n",
    "    \n",
    "    # Cumulative covid-related deaths per 100k population\n",
    "    cumulative_deaths_prop = covid.signal(data_source=\"usa-facts\", signal=\"deaths_cumulative_prop\", geo_type=\"county\")\n",
    "    cumulative_deaths_prop.to_csv(\"data/covidcast/raw/cumulative_deaths_prop.csv\")\n",
    "    \n",
    "    # Daily new covid-related deaths per 100k population\n",
    "    daily_incidence_deaths_prop = covid.signal(data_source=\"usa-facts\", signal=\"deaths_incidence_prop\", geo_type=\"county\")\n",
    "    daily_incidence_deaths_prop.to_csv(\"data/covidcast/raw/daily_incidence_deaths_prop.csv\")\n",
    "    \n",
    "    # Percentage of covid-related outpatient doctor visits\n",
    "    perc_covid_doctor_visits = covid.signal(data_source='doctor-visits', signal='smoothed_adj_cli', geo_type=\"county\")\n",
    "    perc_covid_doctor_visits.to_csv(\"data/covidcast/raw/perc_covid_doctor_visits.csv\")\n",
    "    \n",
    "    # Fraction of mobile devices that did not leave immediate area of home\n",
    "    completely_home_prop = covid.signal(data_source='safegraph', signal='completely_home_prop', geo_type='county')\n",
    "    completely_home_prop.to_csv(\"data/covidcast/raw/completely_home_prop.csv\")\n",
    "    \n",
    "    # Percentage of people wearing a mask most/all the time while in public in the past 5 days\n",
    "    perc_people_wearing_masks = covid.signal(data_source='fb-survey', signal='smoothed_wearing_mask', geo_type=\"county\")\n",
    "    perc_people_wearing_masks.to_csv(\"data/covidcast/raw/perc_people_wearing_masks.csv\")\n",
    "    \n",
    "    # Percentage of people who were tested for covid in past 14 days\n",
    "    perc_people_tested = covid.signal(data_source='fb-survey', signal='smoothed_tested_14d', geo_type='county')\n",
    "    perc_people_tested.to_csv(\"data/covidcast/raw/perc_people_tested.csv\")\n",
    "\n",
    "    # Covid test positivity rate in past 14 days\n",
    "    perc_positive_tests = covid.signal(data_source='fb-survey', signal='smoothed_tested_positive_14d', geo_type='county')\n",
    "    perc_positive_tests.to_csv(\"data/covidcast/raw/perc_positive_tests.csv\")\n",
    "\n",
    "    # Percentage of people who wanted covid tests out of those not tested\n",
    "    perc_wanted_test = covid.signal(data_source='fb-survey', signal='smoothed_wanted_test_14d', geo_type='county')\n",
    "    perc_wanted_test.to_csv(\"data/covidcast/raw/perc_wanted_test.csv\")\n",
    "    \n",
    "else:\n",
    "    confirmed_cumulative_cases_prop = pd.read_csv(\"data/covidcast/raw/confirmed_cumulative_cases_prop.csv\", index_col=0)\n",
    "    confirmed_daily_incidence_cases_prop = pd.read_csv(\"data/covidcast/raw/confirmed_daily_incidence_cases_prop.csv\", index_col=0)\n",
    "    cumulative_deaths_prop = pd.read_csv(\"data/covidcast/raw/cumulative_deaths_prop.csv\", index_col=0)\n",
    "    daily_incidence_deaths_prop = pd.read_csv(\"data/covidcast/raw/daily_incidence_deaths_prop.csv\", index_col=0)\n",
    "    perc_covid_doctor_visits = pd.read_csv(\"data/covidcast/raw/perc_covid_doctor_visits.csv\", index_col=0)\n",
    "    completely_home_prop = pd.read_csv(\"data/covidcast/raw/completely_home_prop.csv\", index_col=0)\n",
    "    perc_people_wearing_masks = pd.read_csv(\"data/covidcast/raw/perc_people_wearing_masks.csv\", index_col=0)\n",
    "    perc_people_tested = pd.read_csv(\"data/covidcast/raw/perc_people_tested.csv\", index_col=0)\n",
    "    perc_positive_tests = pd.read_csv(\"data/covidcast/raw/perc_positive_tests.csv\", index_col=0)\n",
    "    perc_wanted_test = pd.read_csv(\"data/covidcast/raw/perc_wanted_test.csv\", index_col=0)"
   ]
  },
  {
   "cell_type": "markdown",
   "metadata": {},
   "source": [
    "### Retreive FIPS codes for each US county"
   ]
  },
  {
   "cell_type": "code",
   "execution_count": null,
   "metadata": {},
   "outputs": [],
   "source": [
    "if regenerate_state_fips:\n",
    "    state_fips = pd.read_excel(\"data/fips/raw/state_fips_2019.xlsx\", skiprows=range(5))\n",
    "    state_fips = state_fips[[\"State (FIPS)\", \"Name\"]]\n",
    "    state_fips = state_fips.rename(columns={\"State (FIPS)\": \"State FIPS\"})\n",
    "    state_fips.to_csv(\"data/fips/clean/state_fips_2019.csv\")\n",
    "else:\n",
    "    state_fips = pd.read_csv(\"data/fips/clean/state_fips_2019.csv\", index_col=0)"
   ]
  },
  {
   "cell_type": "code",
   "execution_count": null,
   "metadata": {},
   "outputs": [],
   "source": [
    "if regenerate_county_fips:\n",
    "    fips = pd.read_excel('data/fips/raw/area_fips_2019.xlsx', skiprows=range(4))\n",
    "    county_fips = fips[fips[\"Summary Level\"]==50]\n",
    "    county_fips = county_fips.rename(columns={\"Area Name (including legal/statistical area description)\": \"Area Name\",\n",
    "                                              \"State Code (FIPS)\": \"State FIPS\",\n",
    "                                              \"County Code (FIPS)\": \"County FIPS\"})\n",
    "    county_fips[\"Area Name\"] = county_fips[\"Area Name\"].str.title()\n",
    "    county_fips[\"FIPS\"] = county_fips[\"State FIPS\"].apply(str).str.zfill(2) + county_fips[\"County FIPS\"].apply(str).str.zfill(3)\n",
    "    county_fips[\"FIPS\"] = county_fips[\"FIPS\"].astype('int64')\n",
    "    county_fips = county_fips[[\"State FIPS\", \"County FIPS\", \"FIPS\", \"Area Name\"]]\n",
    "    county_fips = county_fips.merge(state_fips, how='left', left_on=\"State FIPS\", right_on=\"State FIPS\")\n",
    "    county_fips = county_fips.rename(columns={\"Name\": \"State Name\"})\n",
    "    county_fips = county_fips[[\"State FIPS\", \"County FIPS\", \"FIPS\", \"State Name\", \"Area Name\"]]\n",
    "    county_fips.to_csv(\"data/fips/clean/county_fips_2019.csv\")\n",
    "else:\n",
    "    county_fips = pd.read_csv(\"data/fips/clean/county_fips_2019.csv\", index_col=0)    "
   ]
  },
  {
   "cell_type": "markdown",
   "metadata": {},
   "source": [
    "### Merge covid datasets with fips data"
   ]
  },
  {
   "cell_type": "code",
   "execution_count": null,
   "metadata": {},
   "outputs": [],
   "source": [
    "def drop_non_county_rows(covid_df):\n",
    "    return covid_df[covid_df['geo_value'] % 1000 != 0]"
   ]
  },
  {
   "cell_type": "code",
   "execution_count": null,
   "metadata": {},
   "outputs": [],
   "source": [
    "def merge_covid_and_county_fips_dfs(covid_df, county_fips_df):\n",
    "    covid_df = drop_non_county_rows(covid_df)\n",
    "    df = covid_df.merge(county_fips_df, how='left', left_on='geo_value', right_on='FIPS')\n",
    "    df = df[[\"geo_value\", \"time_value\", \"issue\", \"value\", \"State Name\", \"Area Name\"]]\n",
    "    df = df.rename(columns={\"geo_value\": \"FIPS\"})\n",
    "    return df"
   ]
  },
  {
   "cell_type": "code",
   "execution_count": null,
   "metadata": {},
   "outputs": [],
   "source": [
    "if False:\n",
    "    confirmed_cumulative_cases_prop_fips = merge_covid_and_county_fips_dfs(confirmed_cumulative_cases_prop, county_fips)\n",
    "    confirmed_daily_incidence_cases_prop_fips = merge_covid_and_county_fips_dfs(confirmed_daily_incidence_cases_prop, county_fips)\n",
    "    cumulative_deaths_prop_fips = merge_covid_and_county_fips_dfs(cumulative_deaths_prop, county_fips)\n",
    "    daily_incidence_deaths_prop_fips = merge_covid_and_county_fips_dfs(daily_incidence_deaths_prop, county_fips)\n",
    "    perc_covid_doctor_visits_fips = merge_covid_and_county_fips_dfs(perc_covid_doctor_visits, county_fips)\n",
    "    completely_home_prop_fips = merge_covid_and_county_fips_dfs(completely_home_prop, county_fips)\n",
    "    perc_people_wearing_masks_fips = merge_covid_and_county_fips_dfs(perc_people_wearing_masks, county_fips)\n",
    "    perc_people_tested_fips = merge_covid_and_county_fips_dfs(perc_people_tested, county_fips)\n",
    "    perc_positive_tests_fips = merge_covid_and_county_fips_dfs(perc_positive_tests, county_fips)\n",
    "    perc_wanted_test_fips = merge_covid_and_county_fips_dfs(perc_wanted_test, county_fips)\n",
    "    \n",
    "    confirmed_cumulative_cases_prop_fips.to_csv(\"data/covidcast/clean/confirmed_cumulative_cases_prop_fips.csv\")\n",
    "    confirmed_daily_incidence_cases_prop_fips.to_csv(\"data/covidcast/clean/confirmed_daily_incidence_cases_prop_fips.csv\")\n",
    "    cumulative_deaths_prop_fips.to_csv(\"data/covidcast/clean/cumulative_deaths_prop_fips.csv\")\n",
    "    daily_incidence_deaths_prop_fips.to_csv(\"data/covidcast/clean/daily_incidence_deaths_prop_fips.csv\")\n",
    "    perc_covid_doctor_visits_fips.to_csv(\"data/covidcast/clean/perc_covid_doctor_visits_fips.csv\")\n",
    "    completely_home_prop_fips.to_csv(\"data/covidcast/clean/completely_home_prop_fips.csv\")\n",
    "    perc_people_wearing_masks_fips.to_csv(\"data/covidcast/clean/perc_people_wearing_masks_fips.csv\")\n",
    "    perc_people_tested_fips.to_csv(\"data/covidcast/clean/perc_people_tested_fips.csv\")\n",
    "    perc_positive_tests_fips.to_csv(\"data/covidcast/clean/perc_positive_tests_fips.csv\")\n",
    "    perc_wanted_test_fips.to_csv(\"data/covidcast/clean/perc_wanted_test_fips.csv\")\n",
    "    \n",
    "else:\n",
    "    confirmed_cumulative_cases_prop_fips = pd.read_csv(\"data/covidcast/clean/confirmed_cumulative_cases_prop_fips.csv\", index_col=0)\n",
    "    confirmed_daily_incidence_cases_prop_fips = pd.read_csv(\"data/covidcast/clean/confirmed_daily_incidence_cases_prop_fips.csv\", index_col=0)\n",
    "    cumulative_deaths_prop_fips = pd.read_csv(\"data/covidcast/clean/cumulative_deaths_prop_fips.csv\", index_col=0)\n",
    "    daily_incidence_deaths_prop_fips = pd.read_csv(\"data/covidcast/clean/daily_incidence_deaths_prop_fips.csv\", index_col=0)\n",
    "    perc_covid_doctor_visits_fips = pd.read_csv(\"data/covidcast/clean/perc_covid_doctor_visits_fips.csv\", index_col=0)\n",
    "    completely_home_prop_fips = pd.read_csv(\"data/covidcast/clean/completely_home_prop_fips.csv\", index_col=0)\n",
    "    perc_people_wearing_masks_fips = pd.read_csv(\"data/covidcast/clean/perc_people_wearing_masks_fips.csv\", index_col=0)\n",
    "    perc_people_tested_fips = pd.read_csv(\"data/covidcast/clean/perc_people_tested_fips.csv\", index_col=0)\n",
    "    perc_positive_tests_fips = pd.read_csv(\"data/covidcast/clean/perc_positive_tests_fips.csv\", index_col=0)\n",
    "    perc_wanted_test_fips = pd.read_csv(\"data/covidcast/clean/perc_wanted_test_fips.csv\", index_col=0)"
   ]
  },
  {
   "cell_type": "markdown",
   "metadata": {},
   "source": [
    "### Fetch and clean USDA County-level data"
   ]
  },
  {
   "cell_type": "markdown",
   "metadata": {},
   "source": [
    "#### Poverty Estimates (2018)"
   ]
  },
  {
   "cell_type": "code",
   "execution_count": null,
   "metadata": {},
   "outputs": [],
   "source": [
    "if regenerate_usda_poverty_data:\n",
    "    poverty = pd.read_excel(\"data/usda_county_datasets/raw/PovertyEstimates.xls\", skiprows=range(4))\n",
    "    poverty = poverty[[\"FIPStxt\", \"Stabr\", \"Area_name\", \"PCTPOVALL_2018\", \"PCTPOV017_2018\"]]\n",
    "    poverty = poverty.rename(columns={\"FIPStxt\": \"FIPS\", \n",
    "                            \"Stabr\": \"State Abrv\", \n",
    "                            \"Area_name\": \"Area Name\", \n",
    "                            \"PCTPOVALL_2018\": \"% Total Population in Poverty (2018)\",\n",
    "                            \"PCTPOV017_2018\": \"% Children Ages 0-17 in Poverty (2018)\"})\n",
    "    poverty.to_csv(\"data/usda_county_datasets/clean/poverty_2018.csv\")\n",
    "else:\n",
    "    poverty = pd.read_csv(\"data/usda_county_datasets/clean/poverty_2018.csv\", index_col=0)"
   ]
  },
  {
   "cell_type": "markdown",
   "metadata": {},
   "source": [
    "#### Unemployment and Median Household Income Estimates (2018)"
   ]
  },
  {
   "cell_type": "code",
   "execution_count": null,
   "metadata": {},
   "outputs": [],
   "source": [
    "if regenerate_usda_unemployment_median_hhi_data:\n",
    "    unemployment_median_hhi = pd.read_excel(\"data/usda_county_datasets/raw/Unemployment.xls\", skiprows=range(7))\n",
    "    unemployment_median_hhi = unemployment_median_hhi[[\"FIPStxt\", \"Stabr\", \"area_name\", \"Unemployment_rate_2018\", \"Median_Household_Income_2018\", \"Med_HH_Income_Percent_of_State_Total_2018\"]]\n",
    "    unemployment_median_hhi = unemployment_median_hhi.rename(columns={\"FIPStxt\": \"FIPS\",\n",
    "                                            \"Stabr\": \"State Abrv\",\n",
    "                                            \"area_name\": \"Area Name\",\n",
    "                                            \"Unemployment_rate_2018\": \"% Unemployment (2018)\",\n",
    "                                            \"Median_Household_Income_2018\": \"Median Household Income (2018)\",\n",
    "                                            \"Med_HH_Income_Percent_of_State_Total_2018\": \"Median Household Income % of State Total (2018)\"})\n",
    "    unemployment_median_hhi.to_csv(\"data/usda_county_datasets/clean/unemployment_median_hhi_2018.csv\")\n",
    "else:\n",
    "    unemployment_median_hhi = pd.read_csv(\"data/usda_county_datasets/clean/unemployment_median_hhi_2018.csv\", index_col=0)\n",
    "    "
   ]
  },
  {
   "cell_type": "markdown",
   "metadata": {},
   "source": [
    "#### Population Estimates (2018)"
   ]
  },
  {
   "cell_type": "code",
   "execution_count": null,
   "metadata": {},
   "outputs": [],
   "source": [
    "if regenerate_usda_population_data:\n",
    "    population = pd.read_excel(\"data/usda_county_datasets/raw/PopulationEstimates.xls\", skiprows=range(2))\n",
    "    population = population[[\"FIPStxt\", \"State\", \"Area_Name\", \"POP_ESTIMATE_2018\"]]\n",
    "    population = population.rename(columns={\"FIPStxt\": \"FIPS\",\n",
    "                               \"State\": \"State Abrv\",\n",
    "                               \"Area_Name\": \"Area Name\",\n",
    "                               \"POP_ESTIMATE_2018\": \"Population Estimate (2018)\"})\n",
    "    population.to_csv(\"data/usda_county_datasets/clean/population_2018.csv\")\n",
    "else:\n",
    "    population = pd.read_csv(\"data/usda_county_datasets/clean/population_2018.csv\", index_col=0)"
   ]
  },
  {
   "cell_type": "markdown",
   "metadata": {},
   "source": [
    "#### Education Estimates (2014-2018)"
   ]
  },
  {
   "cell_type": "code",
   "execution_count": null,
   "metadata": {},
   "outputs": [],
   "source": [
    "if regenerate_usda_education_data:\n",
    "    education = pd.read_excel(\"data/usda_county_datasets/raw/Education.xls\", skiprows=range(4))\n",
    "    education = education[[\"FIPS Code\", \"State\", \"Area name\", \n",
    "                           \"Percent of adults with less than a high school diploma, 2014-18\",\n",
    "                           \"Percent of adults with a high school diploma only, 2014-18\",\n",
    "                           \"Percent of adults completing some college or associate's degree, 2014-18\",\n",
    "                           \"Percent of adults with a bachelor's degree or higher, 2014-18\"]]\n",
    "    education = education.rename(columns={\"FIPS Code\": \"FIPS\",\n",
    "                              \"State\": \"State Abrv\",\n",
    "                              \"Area name\": \"Area Name\",\n",
    "                              \"Percent of adults with less than a high school diploma, 2014-18\": \"% Adults Incomplete High School (2018)\",\n",
    "                              \"Percent of adults with a high school diploma only, 2014-18\": \"% Adults Complete High School (2018)\",\n",
    "                              \"Percent of adults completing some college or associate's degree, 2014-18\": \"% Adults Some College (2018)\",\n",
    "                              \"Percent of adults with a bachelor's degree or higher, 2014-18\": \"% Adults Complete College (2018)\"})\n",
    "    education.to_csv(\"data/usda_county_datasets/clean/education_2018.csv\")\n",
    "else:\n",
    "    education = pd.read_csv(\"data/usda_county_datasets/clean/education_2018.csv\", index_col=0)\n"
   ]
  }
 ],
 "metadata": {
  "kernelspec": {
   "display_name": "Python 3",
   "language": "python",
   "name": "python3"
  },
  "language_info": {
   "codemirror_mode": {
    "name": "ipython",
    "version": 3
   },
   "file_extension": ".py",
   "mimetype": "text/x-python",
   "name": "python",
   "nbconvert_exporter": "python",
   "pygments_lexer": "ipython3",
   "version": "3.8.5"
  }
 },
 "nbformat": 4,
 "nbformat_minor": 4
}
