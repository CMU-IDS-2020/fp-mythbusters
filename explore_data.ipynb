{
 "cells": [
  {
   "cell_type": "code",
   "execution_count": 58,
   "metadata": {},
   "outputs": [],
   "source": [
    "import covidcast as covid\n",
    "import pandas as pd"
   ]
  },
  {
   "cell_type": "markdown",
   "metadata": {},
   "source": [
    "### Global variables: re-fetch data or read from local csv files"
   ]
  },
  {
   "cell_type": "code",
   "execution_count": 83,
   "metadata": {},
   "outputs": [],
   "source": [
    "fetch_from_covidcast = False\n",
    "regenerate_state_fips = False\n",
    "regenerate_county_fips = False\n",
    "remerge_covid_and_fips_data = False\n",
    "regenerate_usda_poverty_data = False\n",
    "regenerate_usda_unemployment_median_hhi_data = False\n",
    "regenerate_usda_population_data = False\n",
    "regenerate_usda_education_data = False"
   ]
  },
  {
   "cell_type": "markdown",
   "metadata": {},
   "source": [
    "### Fetch raw covid data and save to csv"
   ]
  },
  {
   "cell_type": "code",
   "execution_count": 60,
   "metadata": {},
   "outputs": [],
   "source": [
    "import warnings\n",
    "warnings.filterwarnings('ignore')"
   ]
  },
  {
   "cell_type": "code",
   "execution_count": 61,
   "metadata": {},
   "outputs": [],
   "source": [
    "if fetch_from_covidcast:\n",
    "    confirmed_cumulative_cases_prop = covid.signal(data_source=\"usa-facts\", signal=\"confirmed_cumulative_prop\", geo_type=\"county\")\n",
    "    confirmed_daily_incidence_cases_prop = covid.signal(data_source=\"usa-facts\", signal=\"confirmed_incidence_prop\", geo_type=\"county\")\n",
    "    cumulative_deaths_prop = covid.signal(data_source=\"usa-facts\", signal=\"deaths_cumulative_prop\", geo_type=\"county\")\n",
    "    daily_incidence_deaths_prop = covid.signal(data_source=\"usa-facts\", signal=\"deaths_incidence_prop\", geo_type=\"county\")\n",
    "else:\n",
    "    confirmed_cumulative_cases_prop = pd.read_csv(\"data/covid_usafacts/raw/confirmed_cumulative_cases_prop.csv\", index_col=0)\n",
    "    confirmed_daily_incidence_cases_prop = pd.read_csv(\"data/covid_usafacts/raw/confirmed_daily_incidence_cases_prop.csv\", index_col=0)\n",
    "    cumulative_deaths_prop = pd.read_csv(\"data/covid_usafacts/raw/cumulative_deaths_prop.csv\", index_col=0)\n",
    "    daily_incidence_deaths_prop = pd.read_csv(\"data/covid_usafacts/raw/daily_incidence_deaths_prop.csv\", index_col=0)\n",
    "    "
   ]
  },
  {
   "cell_type": "markdown",
   "metadata": {},
   "source": [
    "### Retreive FIPS codes for each US county"
   ]
  },
  {
   "cell_type": "code",
   "execution_count": 62,
   "metadata": {},
   "outputs": [],
   "source": [
    "if regenerate_state_fips:\n",
    "    state_fips = pd.read_excel(\"data/fips/raw/state_fips_2019.xlsx\", skiprows=range(5))\n",
    "    state_fips = state_fips[[\"State (FIPS)\", \"Name\"]]\n",
    "    state_fips = state_fips.rename(columns={\"State (FIPS)\": \"State FIPS\"})\n",
    "    state_fips.to_csv(\"data/fips/clean/state_fips_2019.csv\")\n",
    "else:\n",
    "    state_fips = pd.read_csv(\"data/fips/clean/state_fips_2019.csv\", index_col=0)"
   ]
  },
  {
   "cell_type": "code",
   "execution_count": 63,
   "metadata": {},
   "outputs": [],
   "source": [
    "if regenerate_county_fips:\n",
    "    fips = pd.read_excel('data/fips/raw/area_fips_2019.xlsx', skiprows=range(4))\n",
    "    county_fips = fips[fips[\"Summary Level\"]==50]\n",
    "    county_fips = county_fips.rename(columns={\"Area Name (including legal/statistical area description)\": \"Area Name\",\n",
    "                                              \"State Code (FIPS)\": \"State FIPS\",\n",
    "                                              \"County Code (FIPS)\": \"County FIPS\"})\n",
    "    county_fips[\"Area Name\"] = county_fips[\"Area Name\"].str.title()\n",
    "    county_fips[\"FIPS\"] = county_fips[\"State FIPS\"].apply(str).str.zfill(2) + county_fips[\"County FIPS\"].apply(str).str.zfill(3)\n",
    "    county_fips[\"FIPS\"] = county_fips[\"FIPS\"].astype('int64')\n",
    "    county_fips = county_fips[[\"State FIPS\", \"County FIPS\", \"FIPS\", \"Area Name\"]]\n",
    "    county_fips = county_fips.merge(state_fips, how='left', left_on=\"State FIPS\", right_on=\"State FIPS\")\n",
    "    county_fips = county_fips.rename(columns={\"Name\": \"State Name\"})\n",
    "    county_fips = county_fips[[\"State FIPS\", \"County FIPS\", \"FIPS\", \"State Name\", \"Area Name\"]]\n",
    "    county_fips.to_csv(\"data/fips/clean/county_fips_2019.csv\")\n",
    "else:\n",
    "    county_fips = pd.read_csv(\"data/fips/clean/county_fips_2019.csv\", index_col=0)    "
   ]
  },
  {
   "cell_type": "markdown",
   "metadata": {},
   "source": [
    "### Merge covid datasets with fips data"
   ]
  },
  {
   "cell_type": "code",
   "execution_count": 64,
   "metadata": {},
   "outputs": [],
   "source": [
    "def merge_covid_and_county_fips_dfs(covid_df, county_fips_df):\n",
    "    df = covid_df.merge(county_fips_df, how='left', left_on='geo_value', right_on='FIPS')\n",
    "    return df[[\"FIPS\", \"time_value\", \"issue\", \"value\", \"State Name\", \"Area Name\"]]"
   ]
  },
  {
   "cell_type": "code",
   "execution_count": 84,
   "metadata": {},
   "outputs": [],
   "source": [
    "if remerge_covid_and_fips_data:\n",
    "    confirmed_cumulative_cases_prop_fips = merge_covid_and_county_fips_dfs(confirmed_cumulative_cases_prop, county_fips)\n",
    "    confirmed_daily_incidence_cases_prop_fips = merge_covid_and_county_fips_dfs(confirmed_daily_incidence_cases_prop, county_fips)\n",
    "    cumulative_deaths_prop_fips = merge_covid_and_county_fips_dfs(cumulative_deaths_prop, county_fips)\n",
    "    daily_incidence_deaths_prop_fips = merge_covid_and_county_fips_dfs(daily_incidence_deaths_prop, county_fips)\n",
    "    \n",
    "    confirmed_cumulative_cases_prop_fips.to_csv(\"data/covid_usafacts/clean/confirmed_cumulative_cases_props_fips.csv\")\n",
    "    confirmed_daily_incidence_cases_prop_fips.to_csv(\"data/covid_usafacts/clean/confirmed_daily_incidence_cases_prop_fips.csv\")\n",
    "    cumulative_deaths_prop_fips.to_csv(\"data/covid_usafacts/clean/cumulative_deaths_prop_fips.csv\")\n",
    "    daily_incidence_deaths_prop_fips.to_csv(\"data/covid_usafacts/clean/daily_incidence_deaths_prop_fips.csv\")\n",
    "\n",
    "else:\n",
    "    confirmed_cumulative_cases_prop_fips = pd.read_csv(\"data/covid_usafacts/clean/confirmed_cumulative_cases_props_fips.csv\", index_col=0)\n",
    "    confirmed_daily_incidence_cases_prop_fips = pd.read_csv(\"data/covid_usafacts/clean/confirmed_daily_incidence_cases_prop_fips.csv\", index_col=0)\n",
    "    cumulative_deaths_prop_fips = pd.read_csv(\"data/covid_usafacts/clean/cumulative_deaths_prop_fips.csv\", index_col=0)\n",
    "    daily_incidence_deaths_prop_fips = pd.read_csv(\"data/covid_usafacts/clean/daily_incidence_deaths_prop_fips.csv\", index_col=0)"
   ]
  },
  {
   "cell_type": "code",
   "execution_count": 117,
   "metadata": {},
   "outputs": [
    {
     "data": {
      "text/html": [
       "<div>\n",
       "<style scoped>\n",
       "    .dataframe tbody tr th:only-of-type {\n",
       "        vertical-align: middle;\n",
       "    }\n",
       "\n",
       "    .dataframe tbody tr th {\n",
       "        vertical-align: top;\n",
       "    }\n",
       "\n",
       "    .dataframe thead th {\n",
       "        text-align: right;\n",
       "    }\n",
       "</style>\n",
       "<table border=\"1\" class=\"dataframe\">\n",
       "  <thead>\n",
       "    <tr style=\"text-align: right;\">\n",
       "      <th></th>\n",
       "      <th>FIPS</th>\n",
       "      <th>time_value</th>\n",
       "      <th>issue</th>\n",
       "      <th>value</th>\n",
       "      <th>State Name</th>\n",
       "      <th>Area Name</th>\n",
       "    </tr>\n",
       "  </thead>\n",
       "  <tbody>\n",
       "    <tr>\n",
       "      <th>0</th>\n",
       "      <td>1001</td>\n",
       "      <td>2020-01-25</td>\n",
       "      <td>2020-10-17</td>\n",
       "      <td>0.0</td>\n",
       "      <td>Alabama</td>\n",
       "      <td>Autauga County</td>\n",
       "    </tr>\n",
       "    <tr>\n",
       "      <th>1</th>\n",
       "      <td>1003</td>\n",
       "      <td>2020-01-25</td>\n",
       "      <td>2020-10-17</td>\n",
       "      <td>0.0</td>\n",
       "      <td>Alabama</td>\n",
       "      <td>Baldwin County</td>\n",
       "    </tr>\n",
       "    <tr>\n",
       "      <th>2</th>\n",
       "      <td>1005</td>\n",
       "      <td>2020-01-25</td>\n",
       "      <td>2020-10-17</td>\n",
       "      <td>0.0</td>\n",
       "      <td>Alabama</td>\n",
       "      <td>Barbour County</td>\n",
       "    </tr>\n",
       "    <tr>\n",
       "      <th>3</th>\n",
       "      <td>1007</td>\n",
       "      <td>2020-01-25</td>\n",
       "      <td>2020-10-17</td>\n",
       "      <td>0.0</td>\n",
       "      <td>Alabama</td>\n",
       "      <td>Bibb County</td>\n",
       "    </tr>\n",
       "    <tr>\n",
       "      <th>4</th>\n",
       "      <td>1009</td>\n",
       "      <td>2020-01-25</td>\n",
       "      <td>2020-10-17</td>\n",
       "      <td>0.0</td>\n",
       "      <td>Alabama</td>\n",
       "      <td>Blount County</td>\n",
       "    </tr>\n",
       "    <tr>\n",
       "      <th>...</th>\n",
       "      <td>...</td>\n",
       "      <td>...</td>\n",
       "      <td>...</td>\n",
       "      <td>...</td>\n",
       "      <td>...</td>\n",
       "      <td>...</td>\n",
       "    </tr>\n",
       "    <tr>\n",
       "      <th>892323</th>\n",
       "      <td>56037</td>\n",
       "      <td>2020-11-10</td>\n",
       "      <td>2020-11-12</td>\n",
       "      <td>0.0</td>\n",
       "      <td>Wyoming</td>\n",
       "      <td>Sweetwater County</td>\n",
       "    </tr>\n",
       "    <tr>\n",
       "      <th>892324</th>\n",
       "      <td>56039</td>\n",
       "      <td>2020-11-10</td>\n",
       "      <td>2020-11-12</td>\n",
       "      <td>0.0</td>\n",
       "      <td>Wyoming</td>\n",
       "      <td>Teton County</td>\n",
       "    </tr>\n",
       "    <tr>\n",
       "      <th>892325</th>\n",
       "      <td>56041</td>\n",
       "      <td>2020-11-10</td>\n",
       "      <td>2020-11-12</td>\n",
       "      <td>0.0</td>\n",
       "      <td>Wyoming</td>\n",
       "      <td>Uinta County</td>\n",
       "    </tr>\n",
       "    <tr>\n",
       "      <th>892326</th>\n",
       "      <td>56043</td>\n",
       "      <td>2020-11-10</td>\n",
       "      <td>2020-11-12</td>\n",
       "      <td>0.0</td>\n",
       "      <td>Wyoming</td>\n",
       "      <td>Washakie County</td>\n",
       "    </tr>\n",
       "    <tr>\n",
       "      <th>892327</th>\n",
       "      <td>56045</td>\n",
       "      <td>2020-11-10</td>\n",
       "      <td>2020-11-12</td>\n",
       "      <td>0.0</td>\n",
       "      <td>Wyoming</td>\n",
       "      <td>Weston County</td>\n",
       "    </tr>\n",
       "  </tbody>\n",
       "</table>\n",
       "<p>892328 rows × 6 columns</p>\n",
       "</div>"
      ],
      "text/plain": [
       "         FIPS time_value       issue  value State Name          Area Name\n",
       "0        1001 2020-01-25  2020-10-17    0.0    Alabama     Autauga County\n",
       "1        1003 2020-01-25  2020-10-17    0.0    Alabama     Baldwin County\n",
       "2        1005 2020-01-25  2020-10-17    0.0    Alabama     Barbour County\n",
       "3        1007 2020-01-25  2020-10-17    0.0    Alabama        Bibb County\n",
       "4        1009 2020-01-25  2020-10-17    0.0    Alabama      Blount County\n",
       "...       ...        ...         ...    ...        ...                ...\n",
       "892323  56037 2020-11-10  2020-11-12    0.0    Wyoming  Sweetwater County\n",
       "892324  56039 2020-11-10  2020-11-12    0.0    Wyoming       Teton County\n",
       "892325  56041 2020-11-10  2020-11-12    0.0    Wyoming       Uinta County\n",
       "892326  56043 2020-11-10  2020-11-12    0.0    Wyoming    Washakie County\n",
       "892327  56045 2020-11-10  2020-11-12    0.0    Wyoming      Weston County\n",
       "\n",
       "[892328 rows x 6 columns]"
      ]
     },
     "execution_count": 117,
     "metadata": {},
     "output_type": "execute_result"
    }
   ],
   "source": [
    "daily_incidence_deaths_prop_fips"
   ]
  },
  {
   "cell_type": "code",
   "execution_count": 137,
   "metadata": {},
   "outputs": [
    {
     "data": {
      "text/html": [
       "<div>\n",
       "<style scoped>\n",
       "    .dataframe tbody tr th:only-of-type {\n",
       "        vertical-align: middle;\n",
       "    }\n",
       "\n",
       "    .dataframe tbody tr th {\n",
       "        vertical-align: top;\n",
       "    }\n",
       "\n",
       "    .dataframe thead th {\n",
       "        text-align: right;\n",
       "    }\n",
       "</style>\n",
       "<table border=\"1\" class=\"dataframe\">\n",
       "  <thead>\n",
       "    <tr style=\"text-align: right;\">\n",
       "      <th></th>\n",
       "      <th>FIPS</th>\n",
       "      <th>Area Name</th>\n",
       "      <th>Min</th>\n",
       "      <th>Max</th>\n",
       "      <th>Average</th>\n",
       "      <th>Median</th>\n",
       "    </tr>\n",
       "  </thead>\n",
       "  <tbody>\n",
       "    <tr>\n",
       "      <th>0</th>\n",
       "      <td>36001</td>\n",
       "      <td>Albany County</td>\n",
       "      <td>0.000000</td>\n",
       "      <td>6.873842</td>\n",
       "      <td>0.152137</td>\n",
       "      <td>0.000000</td>\n",
       "    </tr>\n",
       "    <tr>\n",
       "      <th>1</th>\n",
       "      <td>36003</td>\n",
       "      <td>Allegany County</td>\n",
       "      <td>0.000000</td>\n",
       "      <td>8.678484</td>\n",
       "      <td>0.221546</td>\n",
       "      <td>0.000000</td>\n",
       "    </tr>\n",
       "    <tr>\n",
       "      <th>2</th>\n",
       "      <td>36005</td>\n",
       "      <td>Bronx County</td>\n",
       "      <td>-0.098716</td>\n",
       "      <td>21.252187</td>\n",
       "      <td>1.245224</td>\n",
       "      <td>0.169228</td>\n",
       "    </tr>\n",
       "    <tr>\n",
       "      <th>3</th>\n",
       "      <td>36007</td>\n",
       "      <td>Broome County</td>\n",
       "      <td>0.000000</td>\n",
       "      <td>3.674772</td>\n",
       "      <td>0.216272</td>\n",
       "      <td>0.000000</td>\n",
       "    </tr>\n",
       "    <tr>\n",
       "      <th>4</th>\n",
       "      <td>36009</td>\n",
       "      <td>Cattaraugus County</td>\n",
       "      <td>0.000000</td>\n",
       "      <td>2.627534</td>\n",
       "      <td>0.097145</td>\n",
       "      <td>0.000000</td>\n",
       "    </tr>\n",
       "    <tr>\n",
       "      <th>...</th>\n",
       "      <td>...</td>\n",
       "      <td>...</td>\n",
       "      <td>...</td>\n",
       "      <td>...</td>\n",
       "      <td>...</td>\n",
       "      <td>...</td>\n",
       "    </tr>\n",
       "    <tr>\n",
       "      <th>57</th>\n",
       "      <td>36115</td>\n",
       "      <td>Washington County</td>\n",
       "      <td>0.000000</td>\n",
       "      <td>9.803281</td>\n",
       "      <td>0.080543</td>\n",
       "      <td>0.000000</td>\n",
       "    </tr>\n",
       "    <tr>\n",
       "      <th>58</th>\n",
       "      <td>36117</td>\n",
       "      <td>Wayne County</td>\n",
       "      <td>0.000000</td>\n",
       "      <td>2.224249</td>\n",
       "      <td>0.031327</td>\n",
       "      <td>0.000000</td>\n",
       "    </tr>\n",
       "    <tr>\n",
       "      <th>59</th>\n",
       "      <td>36119</td>\n",
       "      <td>Westchester County</td>\n",
       "      <td>0.000000</td>\n",
       "      <td>13.023175</td>\n",
       "      <td>0.538629</td>\n",
       "      <td>0.000000</td>\n",
       "    </tr>\n",
       "    <tr>\n",
       "      <th>60</th>\n",
       "      <td>36121</td>\n",
       "      <td>Wyoming County</td>\n",
       "      <td>0.000000</td>\n",
       "      <td>7.526531</td>\n",
       "      <td>0.044170</td>\n",
       "      <td>0.000000</td>\n",
       "    </tr>\n",
       "    <tr>\n",
       "      <th>61</th>\n",
       "      <td>36123</td>\n",
       "      <td>Yates County</td>\n",
       "      <td>0.000000</td>\n",
       "      <td>4.013969</td>\n",
       "      <td>0.084802</td>\n",
       "      <td>0.000000</td>\n",
       "    </tr>\n",
       "  </tbody>\n",
       "</table>\n",
       "<p>62 rows × 6 columns</p>\n",
       "</div>"
      ],
      "text/plain": [
       "     FIPS           Area Name       Min        Max   Average    Median\n",
       "0   36001       Albany County  0.000000   6.873842  0.152137  0.000000\n",
       "1   36003     Allegany County  0.000000   8.678484  0.221546  0.000000\n",
       "2   36005        Bronx County -0.098716  21.252187  1.245224  0.169228\n",
       "3   36007       Broome County  0.000000   3.674772  0.216272  0.000000\n",
       "4   36009  Cattaraugus County  0.000000   2.627534  0.097145  0.000000\n",
       "..    ...                 ...       ...        ...       ...       ...\n",
       "57  36115   Washington County  0.000000   9.803281  0.080543  0.000000\n",
       "58  36117        Wayne County  0.000000   2.224249  0.031327  0.000000\n",
       "59  36119  Westchester County  0.000000  13.023175  0.538629  0.000000\n",
       "60  36121      Wyoming County  0.000000   7.526531  0.044170  0.000000\n",
       "61  36123        Yates County  0.000000   4.013969  0.084802  0.000000\n",
       "\n",
       "[62 rows x 6 columns]"
      ]
     },
     "execution_count": 137,
     "metadata": {},
     "output_type": "execute_result"
    }
   ],
   "source": [
    "x = daily_incidence_deaths_prop_fips\n",
    "x[\"time_value\"] = pd.to_datetime(x[\"time_value\"])\n",
    "x = x[x[\"FIPS\"]//1000==36]\n",
    "x.groupby(['FIPS', 'Area Name'])['value'].agg(Min='min', Max='max', Average='mean', Median='median').reset_index()"
   ]
  },
  {
   "cell_type": "markdown",
   "metadata": {},
   "source": [
    "### Fetch and clean USDA County-level data"
   ]
  },
  {
   "cell_type": "markdown",
   "metadata": {},
   "source": [
    "#### Poverty Estimates (2018)"
   ]
  },
  {
   "cell_type": "code",
   "execution_count": 66,
   "metadata": {},
   "outputs": [],
   "source": [
    "if regenerate_usda_poverty_data:\n",
    "    poverty = pd.read_excel(\"data/usda_county_datasets/raw/PovertyEstimates.xls\", skiprows=range(4))\n",
    "    poverty = poverty[[\"FIPStxt\", \"Stabr\", \"Area_name\", \"PCTPOVALL_2018\", \"PCTPOV017_2018\"]]\n",
    "    poverty = poverty.rename(columns={\"FIPStxt\": \"FIPS\", \n",
    "                            \"Stabr\": \"State Abrv\", \n",
    "                            \"Area_name\": \"Area Name\", \n",
    "                            \"PCTPOVALL_2018\": \"% Total Population in Poverty (2018)\",\n",
    "                            \"PCTPOV017_2018\": \"% Children Ages 0-17 in Poverty (2018)\"})\n",
    "    poverty.to_csv(\"data/usda_county_datasets/clean/poverty_2018.csv\")\n",
    "else:\n",
    "    poverty = pd.read_csv(\"data/usda_county_datasets/clean/poverty_2018.csv\", index_col=0)"
   ]
  },
  {
   "cell_type": "markdown",
   "metadata": {},
   "source": [
    "#### Unemployment and Median Household Income Estimates (2018)"
   ]
  },
  {
   "cell_type": "code",
   "execution_count": 67,
   "metadata": {},
   "outputs": [],
   "source": [
    "if regenerate_usda_unemployment_median_hhi_data:\n",
    "    unemployment_median_hhi = pd.read_excel(\"data/usda_county_datasets/raw/Unemployment.xls\", skiprows=range(7))\n",
    "    unemployment_median_hhi = unemployment_median_hhi[[\"FIPStxt\", \"Stabr\", \"area_name\", \"Unemployment_rate_2018\", \"Median_Household_Income_2018\", \"Med_HH_Income_Percent_of_State_Total_2018\"]]\n",
    "    unemployment_median_hhi = unemployment_median_hhi.rename(columns={\"FIPStxt\": \"FIPS\",\n",
    "                                            \"Stabr\": \"State Abrv\",\n",
    "                                            \"area_name\": \"Area Name\",\n",
    "                                            \"Unemployment_rate_2018\": \"% Unemployment (2018)\",\n",
    "                                            \"Median_Household_Income_2018\": \"Median Household Income (2018)\",\n",
    "                                            \"Med_HH_Income_Percent_of_State_Total_2018\": \"Median Household Income % of State Total (2018)\"})\n",
    "    unemployment_median_hhi.to_csv(\"data/usda_county_datasets/clean/unemployment_median_hhi_2018.csv\")\n",
    "else:\n",
    "    unemployment_median_hhi = pd.read_csv(\"data/usda_county_datasets/clean/unemployment_median_hhi_2018.csv\", index_col=0)\n",
    "    "
   ]
  },
  {
   "cell_type": "markdown",
   "metadata": {},
   "source": [
    "#### Population Estimates (2018)"
   ]
  },
  {
   "cell_type": "code",
   "execution_count": 68,
   "metadata": {},
   "outputs": [],
   "source": [
    "if regenerate_usda_population_data:\n",
    "    population = pd.read_excel(\"data/usda_county_datasets/raw/PopulationEstimates.xls\", skiprows=range(2))\n",
    "    population = population[[\"FIPStxt\", \"State\", \"Area_Name\", \"POP_ESTIMATE_2018\"]]\n",
    "    population = population.rename(columns={\"FIPStxt\": \"FIPS\",\n",
    "                               \"State\": \"State Abrv\",\n",
    "                               \"Area_Name\": \"Area Name\",\n",
    "                               \"POP_ESTIMATE_2018\": \"Population Estimate (2018)\"})\n",
    "    population.to_csv(\"data/usda_county_datasets/clean/population_2018.csv\")\n",
    "else:\n",
    "    population = pd.read_csv(\"data/usda_county_datasets/clean/population_2018.csv\", index_col=0)"
   ]
  },
  {
   "cell_type": "markdown",
   "metadata": {},
   "source": [
    "#### Education Estimates (2014-2018)"
   ]
  },
  {
   "cell_type": "code",
   "execution_count": 69,
   "metadata": {},
   "outputs": [],
   "source": [
    "if regenerate_usda_education_data:\n",
    "    education = pd.read_excel(\"data/usda_county_datasets/raw/Education.xls\", skiprows=range(4))\n",
    "    education = education[[\"FIPS Code\", \"State\", \"Area name\", \n",
    "                           \"Percent of adults with less than a high school diploma, 2014-18\",\n",
    "                           \"Percent of adults with a high school diploma only, 2014-18\",\n",
    "                           \"Percent of adults completing some college or associate's degree, 2014-18\",\n",
    "                           \"Percent of adults with a bachelor's degree or higher, 2014-18\"]]\n",
    "    education = education.rename(columns={\"FIPS Code\": \"FIPS\",\n",
    "                              \"State\": \"State Abrv\",\n",
    "                              \"Area name\": \"Area Name\",\n",
    "                              \"Percent of adults with less than a high school diploma, 2014-18\": \"% Adults Incomplete High School (2018)\",\n",
    "                              \"Percent of adults with a high school diploma only, 2014-18\": \"% Adults Complete High School (2018)\",\n",
    "                              \"Percent of adults completing some college or associate's degree, 2014-18\": \"% Adults Some College (2018)\",\n",
    "                              \"Percent of adults with a bachelor's degree or higher, 2014-18\": \"% Adults Complete College (2018)\"})\n",
    "    education.to_csv(\"data/usda_county_datasets/clean/education_2018.csv\")\n",
    "else:\n",
    "    education = pd.read_csv(\"data/usda_county_datasets/clean/education_2018.csv\", index_col=0)"
   ]
  },
  {
   "cell_type": "markdown",
   "metadata": {},
   "source": [
    "#### Get most recent cumulative covid data for given state"
   ]
  },
  {
   "cell_type": "code",
   "execution_count": null,
   "metadata": {},
   "outputs": [],
   "source": [
    "# def get_cumulative_covid_data_for_state(state, confirmed_cumulative_cases_county, cumulative_deaths_county):\n",
    "#     state_cumulative_deaths = cumulative_deaths_county[cumulative_deaths_county[\"State Name\"]==state]\n",
    "#     state_cumulative_deaths = state_cumulative_deaths[~state_cumulative_deaths.duplicated(\"geo_value\", keep=\"last\")]\n",
    "#     state_cumulative_deaths = state_cumulative_deaths.rename(columns={\"geo_value\": \"FIPS\", \"value\": \"Cumulative Deaths\"})\n",
    "#     state_cumulative_deaths = state_cumulative_deaths[[\"FIPS\", \"Area Name\", \"time_value\", \"issue\", \"Cumulative Deaths\"]]\n",
    "    \n",
    "#     state_confirmed_cumulative_cases = confirmed_cumulative_cases_county[confirmed_cumulative_cases_county[\"State Name\"]==state]\n",
    "#     state_confirmed_cumulative_cases = state_confirmed_cumulative_cases[~state_confirmed_cumulative_cases.duplicated(\"geo_value\", keep=\"last\")]\n",
    "#     state_confirmed_cumulative_cases = state_confirmed_cumulative_cases.rename(columns={\"geo_value\": \"FIPS\", \"value\": \"Confirmed Cumulative Cases\"})\n",
    "#     state_confirmed_cumulative_cases = state_confirmed_cumulative_cases[[\"FIPS\", \"Area Name\", \"time_value\", \"issue\", \"Confirmed Cumulative Cases\"]]\n",
    "    \n",
    "#     state_cumulative = state_cumulative_deaths.merge(state_confirmed_cumulative_cases, how='inner', on=\"FIPS\", suffixes=('', '_'))\n",
    "#     state_cumulative = state_cumulative.drop(columns=[col for col in state_cumulative.columns if col.endswith(\"_\")])\n",
    "#     return state_cumulative"
   ]
  },
  {
   "cell_type": "code",
   "execution_count": null,
   "metadata": {},
   "outputs": [],
   "source": [
    "# ny_covid_cumulative = get_cumulative_covid_data_for_state(\"New York\", confirmed_cumulative_cases_county, cumulative_deaths_county)\n",
    "# ny_covid_cumulative.to_csv(\"data/covid_counties/ny_cumulative.csv\")"
   ]
  },
  {
   "cell_type": "code",
   "execution_count": null,
   "metadata": {},
   "outputs": [],
   "source": [
    "# pa_covid_cumulative = get_cumulative_covid_data_for_state(\"Pennsylvania\", confirmed_cumulative_cases_county, cumulative_deaths_county)\n",
    "# pa_covid_cumulative.to_csv(\"data/covid_counties/pa_cumulative.csv\")"
   ]
  },
  {
   "cell_type": "markdown",
   "metadata": {},
   "source": [
    "#### Get daily incidence covid data for given state"
   ]
  },
  {
   "cell_type": "code",
   "execution_count": null,
   "metadata": {},
   "outputs": [],
   "source": [
    "# def get_daily_covid_incidence_for_state(state, incidence_col_name, daily_incidence_county_df):\n",
    "#     state_daily_incidence = daily_incidence_county_df[daily_incidence_county_df[\"State Name\"]==state]\n",
    "#     state_daily_incidence = state_daily_incidence.rename(columns={\"geo_value\": \"FIPS\", \"value\": incidence_col_name})\n",
    "#     state_daily_incidence = state_daily_incidence[[\"FIPS\", \"Area Name\", \"time_value\", \"issue\", incidence_col_name]]\n",
    "#     state_daily_incidence = state_daily_incidence.reset_index(drop=True)\n",
    "#     return state_daily_incidence"
   ]
  },
  {
   "cell_type": "code",
   "execution_count": null,
   "metadata": {},
   "outputs": [],
   "source": [
    "# ny_daily_cases = get_daily_covid_incidence_for_state(\"New York\", \"Daily Confirmed Cases\", confirmed_daily_incidence_cases_county)\n",
    "# ny_daily_cases.to_csv(\"data/covid_counties/ny_daily_cases.csv\")\n",
    "\n",
    "# ny_daily_deaths = get_daily_covid_incidence_for_state(\"New York\", \"Daily Deaths\", daily_incidence_deaths_county)\n",
    "# ny_daily_deaths.to_csv(\"data/covid_counties/ny_daily_deaths.csv\")"
   ]
  },
  {
   "cell_type": "code",
   "execution_count": null,
   "metadata": {},
   "outputs": [],
   "source": [
    "# pa_daily_cases = get_daily_covid_incidence_for_state(\"Pennsylvania\", \"Daily Confirmed Cases\", confirmed_daily_incidence_cases_county)\n",
    "# pa_daily_cases.to_csv(\"data/covid_counties/pa_daily_cases.csv\")\n",
    "\n",
    "# pa_daily_deaths = get_daily_covid_incidence_for_state(\"Pennsylvania\", \"Daily Deaths\", daily_incidence_deaths_county)\n",
    "# pa_daily_deaths.to_csv(\"data/covid_counties/pa_daily_deaths.csv\")"
   ]
  }
 ],
 "metadata": {
  "kernelspec": {
   "display_name": "Python 3",
   "language": "python",
   "name": "python3"
  },
  "language_info": {
   "codemirror_mode": {
    "name": "ipython",
    "version": 3
   },
   "file_extension": ".py",
   "mimetype": "text/x-python",
   "name": "python",
   "nbconvert_exporter": "python",
   "pygments_lexer": "ipython3",
   "version": "3.8.5"
  }
 },
 "nbformat": 4,
 "nbformat_minor": 4
}
