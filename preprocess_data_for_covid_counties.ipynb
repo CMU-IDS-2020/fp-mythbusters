{
 "cells": [
  {
   "cell_type": "code",
   "execution_count": null,
   "metadata": {},
   "outputs": [],
   "source": [
    "import pandas as pd\n",
    "from datetime import date"
   ]
  },
  {
   "cell_type": "markdown",
   "metadata": {},
   "source": [
    "### Read clean covid, fips, and usda data from local saved csv files"
   ]
  },
  {
   "cell_type": "code",
   "execution_count": null,
   "metadata": {},
   "outputs": [],
   "source": [
    "confirmed_cumulative_cases_county = pd.read_csv(\"data/covid_usafacts/clean/confirmed_cumulative_cases_fips.csv\", index_col=0)\n",
    "confirmed_daily_incidence_cases_county = pd.read_csv(\"data/covid_usafacts/clean/confirmed_daily_incidence_cases_fips.csv\", index_col=0)\n",
    "cumulative_deaths_county = pd.read_csv(\"data/covid_usafacts/clean/cumulative_deaths_fips.csv\", index_col=0)\n",
    "daily_incidence_deaths_county = pd.read_csv(\"data/covid_usafacts/clean/daily_incidence_deaths_fips.csv\", index_col=0)"
   ]
  },
  {
   "cell_type": "code",
   "execution_count": null,
   "metadata": {},
   "outputs": [],
   "source": [
    "ny_usda_data = pd.read_csv(\"data/usda_county_datasets/clean/ny_counties.csv\", index_col=0)\n",
    "pa_usda_data = pd.read_csv(\"data/usda_county_datasets/clean/pa_counties.csv\", index_col=0)"
   ]
  },
  {
   "cell_type": "code",
   "execution_count": null,
   "metadata": {},
   "outputs": [],
   "source": [
    "county_fips = pd.read_csv(\"data/covid_usafacts/clean/county_fips_2019.csv\", index_col=0)\n",
    "state_fips = pd.read_excel(\"data/covid_usafacts/raw/state_fips_2019.xlsx\", skiprows=range(5))"
   ]
  },
  {
   "cell_type": "code",
   "execution_count": null,
   "metadata": {},
   "outputs": [],
   "source": [
    "ny_daily_cases = pd.read_csv(\"data/covid_counties/ny_daily_cases.csv\", index_col=0)\n",
    "ny_daily_deaths = pd.read_csv(\"data/covid_counties/ny_daily_deaths.csv\", index_col=0)\n",
    "pa_daily_cases = pd.read_csv(\"data/covid_counties/pa_daily_cases.csv\", index_col=0)\n",
    "pa_daily_deaths = pd.read_csv(\"data/covid_counties/pa_daily_deaths.csv\", index_col=0)"
   ]
  },
  {
   "cell_type": "markdown",
   "metadata": {},
   "source": [
    "### Convert date str columns to date objects"
   ]
  },
  {
   "cell_type": "code",
   "execution_count": null,
   "metadata": {},
   "outputs": [],
   "source": [
    "ny_daily_cases[\"time_value\"] = ny_daily_cases[\"time_value\"].apply(date.fromisoformat)\n",
    "ny_daily_cases[\"issue\"] = ny_daily_cases[\"issue\"].apply(date.fromisoformat)\n",
    "\n",
    "ny_daily_deaths[\"time_value\"] = ny_daily_deaths[\"time_value\"].apply(date.fromisoformat)\n",
    "ny_daily_deaths[\"issue\"] = ny_daily_deaths[\"issue\"].apply(date.fromisoformat)\n",
    "\n",
    "pa_daily_cases[\"time_value\"] = pa_daily_cases[\"time_value\"].apply(date.fromisoformat)\n",
    "pa_daily_cases[\"issue\"] = pa_daily_cases[\"issue\"].apply(date.fromisoformat)\n",
    "\n",
    "pa_daily_deaths[\"time_value\"] = pa_daily_deaths[\"time_value\"].apply(date.fromisoformat)\n",
    "pa_daily_deaths[\"issue\"] = pa_daily_deaths[\"issue\"].apply(date.fromisoformat)"
   ]
  },
  {
   "cell_type": "code",
   "execution_count": null,
   "metadata": {},
   "outputs": [],
   "source": [
    "def get_rows_in_date_range(df, date_col, start_date, end_date):\n",
    "    return df[(df[date_col] >= start_date) & (df[date_col] <= end_date)]"
   ]
  },
  {
   "cell_type": "code",
   "execution_count": null,
   "metadata": {},
   "outputs": [],
   "source": [
    "get_rows_in_date_range(ny_daily_cases, \"time_value\", date(2020, 10, 1), date(2020, 11, 1))"
   ]
  }
 ],
 "metadata": {
  "kernelspec": {
   "display_name": "Python 3",
   "language": "python",
   "name": "python3"
  },
  "language_info": {
   "codemirror_mode": {
    "name": "ipython",
    "version": 3
   },
   "file_extension": ".py",
   "mimetype": "text/x-python",
   "name": "python",
   "nbconvert_exporter": "python",
   "pygments_lexer": "ipython3",
   "version": "3.8.5"
  }
 },
 "nbformat": 4,
 "nbformat_minor": 4
}
