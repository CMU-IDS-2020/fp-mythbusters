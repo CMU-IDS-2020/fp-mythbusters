{
 "cells": [
  {
   "cell_type": "code",
   "execution_count": 1,
   "metadata": {},
   "outputs": [],
   "source": [
    "import covidcast as covid\n",
    "import pandas as pd"
   ]
  },
  {
   "cell_type": "markdown",
   "metadata": {},
   "source": [
    "### Fetch raw covid data and save to csv"
   ]
  },
  {
   "cell_type": "code",
   "execution_count": null,
   "metadata": {},
   "outputs": [],
   "source": [
    "# import warnings\n",
    "# warnings.filterwarnings('ignore')"
   ]
  },
  {
   "cell_type": "code",
   "execution_count": null,
   "metadata": {},
   "outputs": [],
   "source": [
    "# confirmed_cumulative_cases = covid.signal(data_source=\"usa-facts\",\n",
    "#                                           signal=\"confirmed_cumulative_num\",\n",
    "#                                           geo_type=\"county\")"
   ]
  },
  {
   "cell_type": "code",
   "execution_count": null,
   "metadata": {},
   "outputs": [],
   "source": [
    "# confirmed_daily_incidence_cases = covid.signal(data_source=\"usa-facts\",\n",
    "#                                                signal=\"confirmed_incidence_num\",\n",
    "#                                                geo_type=\"county\")"
   ]
  },
  {
   "cell_type": "code",
   "execution_count": null,
   "metadata": {},
   "outputs": [],
   "source": [
    "# cumulative_deaths = covid.signal(data_source=\"usa-facts\",\n",
    "#                                  signal=\"deaths_cumulative_num\",\n",
    "#                                  geo_type=\"county\")"
   ]
  },
  {
   "cell_type": "code",
   "execution_count": null,
   "metadata": {},
   "outputs": [],
   "source": [
    "# daily_incidence_deaths = covid.signal(data_source=\"usa-facts\",\n",
    "#                                       signal=\"deaths_incidence_num\",\n",
    "#                                       geo_type=\"county\")"
   ]
  },
  {
   "cell_type": "code",
   "execution_count": null,
   "metadata": {},
   "outputs": [],
   "source": [
    "# confirmed_cumulative_cases.to_csv(\"data/covid_usafacts/raw/confirmed_cumulative_cases.csv\")\n",
    "# confirmed_daily_incidence_cases.to_csv(\"data/covid_usafacts/raw/confirmed_daily_incidence_cases.csv\")\n",
    "# cumulative_deaths.to_csv(\"data/covid_usafacts/raw/cumulative_deaths.csv\")\n",
    "# daily_incidence_deaths.to_csv(\"data/covid_usafacts/raw/daily_incidence_deaths.csv\")"
   ]
  },
  {
   "cell_type": "markdown",
   "metadata": {},
   "source": [
    "### Read raw covid data from local saved csv file"
   ]
  },
  {
   "cell_type": "code",
   "execution_count": null,
   "metadata": {},
   "outputs": [],
   "source": [
    "# confirmed_cumulative_cases = pd.read_csv(\"data/covid_usafacts/raw/confirmed_cumulative_cases.csv\", index_col=0)\n",
    "# confirmed_daily_incidence_cases = pd.read_csv(\"data/covid_usafacts/raw/confirmed_daily_incidence_cases.csv\", index_col=0)\n",
    "# cumulative_deaths = pd.read_csv(\"data/covid_usafacts/raw/cumulative_deaths.csv\", index_col=0)\n",
    "# daily_incidence_deaths = pd.read_csv(\"data/covid_usafacts/raw/daily_incidence_deaths.csv\", index_col=0)"
   ]
  },
  {
   "cell_type": "markdown",
   "metadata": {},
   "source": [
    "### Retreive FIPS codes for each US county"
   ]
  },
  {
   "cell_type": "code",
   "execution_count": null,
   "metadata": {},
   "outputs": [],
   "source": [
    "# fips = pd.read_excel('data/covid_usafacts/raw/area_fips_2019.xlsx', skiprows=range(4))\n",
    "# state_fips = pd.read_excel(\"data/covid_usafacts/raw/state_fips_2019.xlsx\", skiprows=range(5))"
   ]
  },
  {
   "cell_type": "code",
   "execution_count": null,
   "metadata": {},
   "outputs": [],
   "source": [
    "# county_fips = fips[fips[\"Summary Level\"]==50]"
   ]
  },
  {
   "cell_type": "code",
   "execution_count": null,
   "metadata": {},
   "outputs": [],
   "source": [
    "# # Rename columns for convenience\n",
    "# county_fips = county_fips.rename(columns={\"Area Name (including legal/statistical area description)\": \"Area Name\",\n",
    "#                                           \"State Code (FIPS)\": \"State FIPS\",\n",
    "#                                           \"County Code (FIPS)\": \"County FIPS\"})"
   ]
  },
  {
   "cell_type": "code",
   "execution_count": null,
   "metadata": {},
   "outputs": [],
   "source": [
    "# # Convert Area Name column to title case\n",
    "# county_fips[\"Area Name\"] = county_fips[\"Area Name\"].str.title()"
   ]
  },
  {
   "cell_type": "code",
   "execution_count": null,
   "metadata": {},
   "outputs": [],
   "source": [
    "# # Get full FIPS code for each row\n",
    "# county_fips[\"FIPS\"] = county_fips[\"State FIPS\"].apply(str).str.zfill(2) + county_fips[\"County FIPS\"].apply(str).str.zfill(3)\n",
    "# county_fips[\"FIPS\"] = county_fips[\"FIPS\"].astype('int64')"
   ]
  },
  {
   "cell_type": "code",
   "execution_count": null,
   "metadata": {},
   "outputs": [],
   "source": [
    "# # Get state names for each row\n",
    "# county_fips = county_fips[[\"State FIPS\", \"County FIPS\", \"FIPS\", \"Area Name\"]]\n",
    "# state_fips = state_fips[[\"State (FIPS)\", \"Name\"]]"
   ]
  },
  {
   "cell_type": "code",
   "execution_count": null,
   "metadata": {},
   "outputs": [],
   "source": [
    "# county_fips = county_fips.merge(state_fips, how='left', left_on=\"State FIPS\", right_on=\"State (FIPS)\")\n",
    "# county_fips = county_fips.rename(columns={\"Name\": \"State Name\"})"
   ]
  },
  {
   "cell_type": "code",
   "execution_count": null,
   "metadata": {},
   "outputs": [],
   "source": [
    "# county_fips = county_fips[[\"State FIPS\", \"County FIPS\", \"FIPS\", \"State Name\", \"Area Name\"]]"
   ]
  },
  {
   "cell_type": "code",
   "execution_count": null,
   "metadata": {},
   "outputs": [],
   "source": [
    "# county_fips.to_csv(\"data/covid_usafacts/clean/county_fips_2019.csv\")"
   ]
  },
  {
   "cell_type": "markdown",
   "metadata": {},
   "source": [
    "### Merge covid datasets with fips data"
   ]
  },
  {
   "cell_type": "code",
   "execution_count": null,
   "metadata": {},
   "outputs": [],
   "source": [
    "# def merge_covid_fips_dfs(covid_df, fips_df):\n",
    "#     df = covid_df.merge(fips_df, how='left', left_on='geo_value', right_on='FIPS')\n",
    "#     return df[[\"geo_value\", \"time_value\", \"issue\", \"value\", \"State Name\", \"Area Name\"]]"
   ]
  },
  {
   "cell_type": "code",
   "execution_count": null,
   "metadata": {},
   "outputs": [],
   "source": [
    "# confirmed_cumulative_cases_fips = merge_covid_fips_dfs(confirmed_cumulative_cases, county_fips)\n",
    "# confirmed_daily_incidence_cases_fips = merge_covid_fips_dfs(confirmed_daily_incidence_cases, county_fips)\n",
    "# cumulative_deaths_fips = merge_covid_fips_dfs(cumulative_deaths, county_fips)\n",
    "# daily_incidence_deaths_fips = merge_covid_fips_dfs(daily_incidence_deaths, county_fips)"
   ]
  },
  {
   "cell_type": "code",
   "execution_count": null,
   "metadata": {},
   "outputs": [],
   "source": [
    "# confirmed_cumulative_cases_fips.to_csv(\"data/covid_usafacts/clean/confirmed_cumulative_cases_fips.csv\")\n",
    "# confirmed_daily_incidence_cases_fips.to_csv(\"data/covid_usafacts/clean/confirmed_daily_incidence_cases_fips.csv\")\n",
    "# cumulative_deaths_fips.to_csv(\"data/covid_usafacts/clean/cumulative_deaths_fips.csv\")\n",
    "# daily_incidence_deaths_fips.to_csv(\"data/covid_usafacts/clean/daily_incidence_deaths_fips.csv\")"
   ]
  },
  {
   "cell_type": "markdown",
   "metadata": {},
   "source": [
    "### Read clean covid and fips data from local saved csv files"
   ]
  },
  {
   "cell_type": "code",
   "execution_count": 2,
   "metadata": {},
   "outputs": [],
   "source": [
    "confirmed_cumulative_cases_county = pd.read_csv(\"data/covid_usafacts/clean/confirmed_cumulative_cases_fips.csv\", index_col=0)\n",
    "confirmed_daily_incidence_cases_county = pd.read_csv(\"data/covid_usafacts/clean/confirmed_daily_incidence_cases_fips.csv\", index_col=0)\n",
    "cumulative_deaths_county = pd.read_csv(\"data/covid_usafacts/clean/cumulative_deaths_fips.csv\", index_col=0)\n",
    "daily_incidence_deaths_county = pd.read_csv(\"data/covid_usafacts/clean/daily_incidence_deaths_fips.csv\", index_col=0)"
   ]
  },
  {
   "cell_type": "code",
   "execution_count": null,
   "metadata": {},
   "outputs": [],
   "source": [
    "# all_data = covid.signal(data_source=\"usa-facts\",\n",
    "#                     signal=\"confirmed_cumulative_num\", # signal=\"confirmed_7dav_incidence_prop\",\n",
    "#                     start_day=date(2020, 8, 1),  # date.today() - timedelta(days=2)\n",
    "#                     end_day=date(2020, 8, 2),  # end_day=date.today()\n",
    "#                     geo_type=\"county\")"
   ]
  },
  {
   "cell_type": "code",
   "execution_count": null,
   "metadata": {},
   "outputs": [],
   "source": []
  }
 ],
 "metadata": {
  "kernelspec": {
   "display_name": "Python 3",
   "language": "python",
   "name": "python3"
  },
  "language_info": {
   "codemirror_mode": {
    "name": "ipython",
    "version": 3
   },
   "file_extension": ".py",
   "mimetype": "text/x-python",
   "name": "python",
   "nbconvert_exporter": "python",
   "pygments_lexer": "ipython3",
   "version": "3.8.5"
  }
 },
 "nbformat": 4,
 "nbformat_minor": 4
}
