{
 "cells": [
  {
   "cell_type": "code",
   "execution_count": 1,
   "metadata": {},
   "outputs": [],
   "source": [
    "import covidcast as covid\n",
    "import pandas as pd"
   ]
  },
  {
   "cell_type": "markdown",
   "metadata": {},
   "source": [
    "### Fetch raw covid data and save to csv"
   ]
  },
  {
   "cell_type": "code",
   "execution_count": null,
   "metadata": {},
   "outputs": [],
   "source": [
    "# import warnings\n",
    "# warnings.filterwarnings('ignore')"
   ]
  },
  {
   "cell_type": "code",
   "execution_count": null,
   "metadata": {},
   "outputs": [],
   "source": [
    "# confirmed_cumulative_cases = covid.signal(data_source=\"usa-facts\",\n",
    "#                                           signal=\"confirmed_cumulative_num\",\n",
    "#                                           geo_type=\"county\")"
   ]
  },
  {
   "cell_type": "code",
   "execution_count": null,
   "metadata": {},
   "outputs": [],
   "source": [
    "# confirmed_daily_incidence_cases = covid.signal(data_source=\"usa-facts\",\n",
    "#                                                signal=\"confirmed_incidence_num\",\n",
    "#                                                geo_type=\"county\")"
   ]
  },
  {
   "cell_type": "code",
   "execution_count": null,
   "metadata": {},
   "outputs": [],
   "source": [
    "# cumulative_deaths = covid.signal(data_source=\"usa-facts\",\n",
    "#                                  signal=\"deaths_cumulative_num\",\n",
    "#                                  geo_type=\"county\")"
   ]
  },
  {
   "cell_type": "code",
   "execution_count": null,
   "metadata": {},
   "outputs": [],
   "source": [
    "# daily_incidence_deaths = covid.signal(data_source=\"usa-facts\",\n",
    "#                                       signal=\"deaths_incidence_num\",\n",
    "#                                       geo_type=\"county\")"
   ]
  },
  {
   "cell_type": "code",
   "execution_count": null,
   "metadata": {},
   "outputs": [],
   "source": [
    "# confirmed_cumulative_cases.to_csv(\"data/covid_usafacts/raw/confirmed_cumulative_cases.csv\")\n",
    "# confirmed_daily_incidence_cases.to_csv(\"data/covid_usafacts/raw/confirmed_daily_incidence_cases.csv\")\n",
    "# cumulative_deaths.to_csv(\"data/covid_usafacts/raw/cumulative_deaths.csv\")\n",
    "# daily_incidence_deaths.to_csv(\"data/covid_usafacts/raw/daily_incidence_deaths.csv\")"
   ]
  },
  {
   "cell_type": "markdown",
   "metadata": {},
   "source": [
    "### Read raw covid data from local saved csv file"
   ]
  },
  {
   "cell_type": "code",
   "execution_count": null,
   "metadata": {},
   "outputs": [],
   "source": [
    "# confirmed_cumulative_cases = pd.read_csv(\"data/covid_usafacts/raw/confirmed_cumulative_cases.csv\", index_col=0)\n",
    "# confirmed_daily_incidence_cases = pd.read_csv(\"data/covid_usafacts/raw/confirmed_daily_incidence_cases.csv\", index_col=0)\n",
    "# cumulative_deaths = pd.read_csv(\"data/covid_usafacts/raw/cumulative_deaths.csv\", index_col=0)\n",
    "# daily_incidence_deaths = pd.read_csv(\"data/covid_usafacts/raw/daily_incidence_deaths.csv\", index_col=0)"
   ]
  },
  {
   "cell_type": "markdown",
   "metadata": {},
   "source": [
    "### Retreive FIPS codes for each US county"
   ]
  },
  {
   "cell_type": "code",
   "execution_count": null,
   "metadata": {},
   "outputs": [],
   "source": [
    "# fips = pd.read_excel('data/covid_usafacts/raw/area_fips_2019.xlsx', skiprows=range(4))\n",
    "# state_fips = pd.read_excel(\"data/covid_usafacts/raw/state_fips_2019.xlsx\", skiprows=range(5))"
   ]
  },
  {
   "cell_type": "code",
   "execution_count": null,
   "metadata": {},
   "outputs": [],
   "source": [
    "# county_fips = fips[fips[\"Summary Level\"]==50]"
   ]
  },
  {
   "cell_type": "code",
   "execution_count": null,
   "metadata": {},
   "outputs": [],
   "source": [
    "# # Rename columns for convenience\n",
    "# county_fips = county_fips.rename(columns={\"Area Name (including legal/statistical area description)\": \"Area Name\",\n",
    "#                                           \"State Code (FIPS)\": \"State FIPS\",\n",
    "#                                           \"County Code (FIPS)\": \"County FIPS\"})"
   ]
  },
  {
   "cell_type": "code",
   "execution_count": null,
   "metadata": {},
   "outputs": [],
   "source": [
    "# # Convert Area Name column to title case\n",
    "# county_fips[\"Area Name\"] = county_fips[\"Area Name\"].str.title()"
   ]
  },
  {
   "cell_type": "code",
   "execution_count": null,
   "metadata": {},
   "outputs": [],
   "source": [
    "# # Get full FIPS code for each row\n",
    "# county_fips[\"FIPS\"] = county_fips[\"State FIPS\"].apply(str).str.zfill(2) + county_fips[\"County FIPS\"].apply(str).str.zfill(3)\n",
    "# county_fips[\"FIPS\"] = county_fips[\"FIPS\"].astype('int64')"
   ]
  },
  {
   "cell_type": "code",
   "execution_count": null,
   "metadata": {},
   "outputs": [],
   "source": [
    "# # Get state names for each row\n",
    "# county_fips = county_fips[[\"State FIPS\", \"County FIPS\", \"FIPS\", \"Area Name\"]]\n",
    "# state_fips = state_fips[[\"State (FIPS)\", \"Name\"]]"
   ]
  },
  {
   "cell_type": "code",
   "execution_count": null,
   "metadata": {},
   "outputs": [],
   "source": [
    "# county_fips = county_fips.merge(state_fips, how='left', left_on=\"State FIPS\", right_on=\"State (FIPS)\")\n",
    "# county_fips = county_fips.rename(columns={\"Name\": \"State Name\"})"
   ]
  },
  {
   "cell_type": "code",
   "execution_count": null,
   "metadata": {},
   "outputs": [],
   "source": [
    "# county_fips = county_fips[[\"State FIPS\", \"County FIPS\", \"FIPS\", \"State Name\", \"Area Name\"]]"
   ]
  },
  {
   "cell_type": "code",
   "execution_count": null,
   "metadata": {},
   "outputs": [],
   "source": [
    "# county_fips.to_csv(\"data/covid_usafacts/clean/county_fips_2019.csv\")"
   ]
  },
  {
   "cell_type": "markdown",
   "metadata": {},
   "source": [
    "### Merge covid datasets with fips data"
   ]
  },
  {
   "cell_type": "code",
   "execution_count": null,
   "metadata": {},
   "outputs": [],
   "source": [
    "# def merge_covid_fips_dfs(covid_df, fips_df):\n",
    "#     df = covid_df.merge(fips_df, how='left', left_on='geo_value', right_on='FIPS')\n",
    "#     return df[[\"geo_value\", \"time_value\", \"issue\", \"value\", \"State Name\", \"Area Name\"]]"
   ]
  },
  {
   "cell_type": "code",
   "execution_count": null,
   "metadata": {},
   "outputs": [],
   "source": [
    "# confirmed_cumulative_cases_fips = merge_covid_fips_dfs(confirmed_cumulative_cases, county_fips)\n",
    "# confirmed_daily_incidence_cases_fips = merge_covid_fips_dfs(confirmed_daily_incidence_cases, county_fips)\n",
    "# cumulative_deaths_fips = merge_covid_fips_dfs(cumulative_deaths, county_fips)\n",
    "# daily_incidence_deaths_fips = merge_covid_fips_dfs(daily_incidence_deaths, county_fips)"
   ]
  },
  {
   "cell_type": "code",
   "execution_count": null,
   "metadata": {},
   "outputs": [],
   "source": [
    "# confirmed_cumulative_cases_fips.to_csv(\"data/covid_usafacts/clean/confirmed_cumulative_cases_fips.csv\")\n",
    "# confirmed_daily_incidence_cases_fips.to_csv(\"data/covid_usafacts/clean/confirmed_daily_incidence_cases_fips.csv\")\n",
    "# cumulative_deaths_fips.to_csv(\"data/covid_usafacts/clean/cumulative_deaths_fips.csv\")\n",
    "# daily_incidence_deaths_fips.to_csv(\"data/covid_usafacts/clean/daily_incidence_deaths_fips.csv\")"
   ]
  },
  {
   "cell_type": "markdown",
   "metadata": {},
   "source": [
    "### Read clean covid and fips data from local saved csv files"
   ]
  },
  {
   "cell_type": "code",
   "execution_count": 2,
   "metadata": {},
   "outputs": [],
   "source": [
    "confirmed_cumulative_cases_county = pd.read_csv(\"data/covid_usafacts/clean/confirmed_cumulative_cases_fips.csv\", index_col=0)\n",
    "confirmed_daily_incidence_cases_county = pd.read_csv(\"data/covid_usafacts/clean/confirmed_daily_incidence_cases_fips.csv\", index_col=0)\n",
    "cumulative_deaths_county = pd.read_csv(\"data/covid_usafacts/clean/cumulative_deaths_fips.csv\", index_col=0)\n",
    "daily_incidence_deaths_county = pd.read_csv(\"data/covid_usafacts/clean/daily_incidence_deaths_fips.csv\", index_col=0)"
   ]
  },
  {
   "cell_type": "code",
   "execution_count": null,
   "metadata": {},
   "outputs": [],
   "source": [
    "# all_data = covid.signal(data_source=\"usa-facts\",\n",
    "#                     signal=\"confirmed_cumulative_num\", # signal=\"confirmed_7dav_incidence_prop\",\n",
    "#                     start_day=date(2020, 8, 1),  # date.today() - timedelta(days=2)\n",
    "#                     end_day=date(2020, 8, 2),  # end_day=date.today()\n",
    "#                     geo_type=\"county\")"
   ]
  },
  {
   "cell_type": "markdown",
   "metadata": {},
   "source": [
    "### Fetch and clean USDA County-level data"
   ]
  },
  {
   "cell_type": "markdown",
   "metadata": {},
   "source": [
    "#### New York "
   ]
  },
  {
   "cell_type": "code",
   "execution_count": 173,
   "metadata": {
    "scrolled": true
   },
   "outputs": [],
   "source": [
    "ny_poverty = pd.read_excel(\"data/usda_county_datasets/poverty_percentages_2018/ny_counties.xlsx\")\n",
    "ny_poverty = ny_poverty[[\"FIPS\", \"Name\", \"Total Percent\", \"Children Percent\"]].rename(\n",
    "    columns={\"Total Percent\": \"% Population in Poverty (2018)\", \"Children Percent\": \"% Children in Poverty (2018)\" })"
   ]
  },
  {
   "cell_type": "code",
   "execution_count": 174,
   "metadata": {},
   "outputs": [],
   "source": [
    "ny_unemployment_median_hhi = pd.read_excel(\"data/usda_county_datasets/unemployment_rate_median_hhi_2018/ny_counties.xlsx\", skiprows=range(1))\n",
    "ny_unemployment_median_hhi = ny_unemployment_median_hhi.dropna(how='all')\n",
    "ny_unemployment_median_hhi[\"FIPS\"] = ny_unemployment_median_hhi[\"FIPS\"].astype(\"int64\")\n",
    "ny_unemployment_median_hhi = ny_unemployment_median_hhi[[\"FIPS\", 2018, \"Median Household Income (2018)\", \"% of State Median HH Income\"]]\n",
    "ny_unemployment_median_hhi = ny_unemployment_median_hhi.rename(columns={2018: \"Unemployment Rate (2018)\"})"
   ]
  },
  {
   "cell_type": "code",
   "execution_count": 175,
   "metadata": {},
   "outputs": [],
   "source": [
    "def get_recent_education_data(csv_path, education_col_name):\n",
    "    df = pd.read_excel(csv_path, skiprows=range(2))\n",
    "    df = df[[\"FIPS\", \"2014-2018\"]]\n",
    "    df[\"2014-2018\"] = df[\"2014-2018\"] * 100\n",
    "    df = df.rename(columns = {\"2014-2018\": \"% \" + education_col_name + \" (2014-2018)\"})\n",
    "    return df"
   ]
  },
  {
   "cell_type": "code",
   "execution_count": 176,
   "metadata": {},
   "outputs": [],
   "source": [
    "ny_complete_college = get_recent_education_data(\"data/usda_county_datasets/education_1970_2018/complete_college/ny_counties.xlsx\", \n",
    "                          \"Complete College\")\n",
    "\n",
    "ny_complete_high_school = get_recent_education_data(\"data/usda_county_datasets/education_1970_2018/complete_high_school/ny_counties.xlsx\", \n",
    "                          \"Complete High School\")\n",
    "\n",
    "ny_incomplete_high_school = get_recent_education_data(\"data/usda_county_datasets/education_1970_2018/incomplete_high_school/ny_counties.xlsx\", \n",
    "                          \"Incomplete High School\")\n",
    "\n",
    "ny_education = ny_complete_college.merge(ny_complete_high_school, how='outer', on=\"FIPS\").merge(ny_incomplete_high_school, how='outer', on=\"FIPS\")"
   ]
  },
  {
   "cell_type": "code",
   "execution_count": 177,
   "metadata": {},
   "outputs": [],
   "source": [
    "ny_usda_data = ny_poverty.merge(ny_unemployment_median_hhi, how='outer', on='FIPS').merge(ny_education, how='outer', on='FIPS')"
   ]
  },
  {
   "cell_type": "code",
   "execution_count": 178,
   "metadata": {},
   "outputs": [],
   "source": [
    "ny_usda_data.to_csv(\"data/usda_county_datasets/clean/ny_counties.csv\")"
   ]
  },
  {
   "cell_type": "markdown",
   "metadata": {},
   "source": [
    "#### Pennsylvania"
   ]
  },
  {
   "cell_type": "code",
   "execution_count": 179,
   "metadata": {},
   "outputs": [],
   "source": [
    "pa_poverty = pd.read_excel(\"data/usda_county_datasets/poverty_percentages_2018/pa_counties.xlsx\")\n",
    "pa_poverty = pa_poverty[[\"FIPS\", \"Name\", \"Total Percent\", \"Children Percent\"]].rename(columns={\n",
    "    \"Total Percent\": \"% Population in Poverty (2018)\", \n",
    "    \"Children Percent\": \"% Children in Poverty (2018)\" \n",
    "})"
   ]
  },
  {
   "cell_type": "code",
   "execution_count": 180,
   "metadata": {},
   "outputs": [],
   "source": [
    "pa_unemployment_median_hhi = pd.read_excel(\"data/usda_county_datasets/unemployment_rate_median_hhi_2018/pa_counties.xlsx\", skiprows=range(1))\n",
    "pa_unemployment_median_hhi = pa_unemployment_median_hhi.dropna(how='all')\n",
    "pa_unemployment_median_hhi[\"FIPS\"] = pa_unemployment_median_hhi[\"FIPS\"].astype(\"int64\")\n",
    "pa_unemployment_median_hhi = pa_unemployment_median_hhi[[\"FIPS\", 2018, \"Median Household Income (2018)\", \"% of State Median HH Income\"]]\n",
    "pa_unemployment_median_hhi = pa_unemployment_median_hhi.rename(columns={2018: \"Unemployment Rate (2018)\"})"
   ]
  },
  {
   "cell_type": "code",
   "execution_count": 181,
   "metadata": {},
   "outputs": [],
   "source": [
    "pa_complete_college = get_recent_education_data(\"data/usda_county_datasets/education_1970_2018/complete_college/pa_counties.xlsx\", \n",
    "                          \"Complete College\")\n",
    "\n",
    "pa_complete_high_school = get_recent_education_data(\"data/usda_county_datasets/education_1970_2018/complete_high_school/pa_counties.xlsx\", \n",
    "                          \"Complete High School\")\n",
    "\n",
    "pa_incomplete_high_school = get_recent_education_data(\"data/usda_county_datasets/education_1970_2018/incomplete_high_school/pa_counties.xlsx\", \n",
    "                          \"Incomplete High School\")\n",
    "\n",
    "pa_education = pa_complete_college.merge(pa_complete_high_school, how='outer', on=\"FIPS\").merge(pa_incomplete_high_school, how='outer', on=\"FIPS\")"
   ]
  },
  {
   "cell_type": "code",
   "execution_count": 182,
   "metadata": {},
   "outputs": [],
   "source": [
    "pa_usda_data = pa_poverty.merge(pa_unemployment_median_hhi, how='outer', on='FIPS').merge(pa_education, how='outer', on='FIPS')"
   ]
  },
  {
   "cell_type": "code",
   "execution_count": 183,
   "metadata": {},
   "outputs": [],
   "source": [
    "pa_usda_data.to_csv(\"data/usda_county_datasets/clean/pa_counties.csv\")"
   ]
  },
  {
   "cell_type": "code",
   "execution_count": null,
   "metadata": {},
   "outputs": [],
   "source": []
  }
 ],
 "metadata": {
  "kernelspec": {
   "display_name": "Python 3",
   "language": "python",
   "name": "python3"
  },
  "language_info": {
   "codemirror_mode": {
    "name": "ipython",
    "version": 3
   },
   "file_extension": ".py",
   "mimetype": "text/x-python",
   "name": "python",
   "nbconvert_exporter": "python",
   "pygments_lexer": "ipython3",
   "version": "3.8.5"
  }
 },
 "nbformat": 4,
 "nbformat_minor": 4
}
